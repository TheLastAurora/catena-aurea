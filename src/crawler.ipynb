{
 "cells": [
  {
   "cell_type": "code",
   "execution_count": 186,
   "metadata": {},
   "outputs": [],
   "source": [
    "from requests_html import HTMLSession\n",
    "from bs4 import BeautifulSoup\n",
    "from urllib.parse import urlparse\n",
    "import nest_asyncio\n",
    "import re\n"
   ]
  },
  {
   "cell_type": "code",
   "execution_count": 187,
   "metadata": {},
   "outputs": [],
   "source": [
    "index = \"https://gloss-e.irht.cnrs.fr/php/livres-liste.php?id=catena\"\n",
    "session = HTMLSession()\n",
    "nest_asyncio.apply()\n",
    "res = session.get(index)\n",
    "content = BeautifulSoup(res.text, 'html.parser')"
   ]
  },
  {
   "cell_type": "code",
   "execution_count": 188,
   "metadata": {},
   "outputs": [
    {
     "data": {
      "text/plain": [
       "['../',\n",
       " '../index.php',\n",
       " '../php/introduction.php',\n",
       " '#',\n",
       " '../php/livres-liste.php?id=biblia',\n",
       " '../php/livres-liste.php?id=glo',\n",
       " '../php/livres-liste.php?id=media',\n",
       " '../php/livres-liste.php?id=magna',\n",
       " '../php/livres-liste.php?id=hug',\n",
       " '../php/livres-liste.php?id=phi',\n",
       " '../php/livres-liste.php?id=catena',\n",
       " '../php/livres-liste.php?id=lyr',\n",
       " '../php/glossem_formulaire.php',\n",
       " '../php/index-liste.php',\n",
       " '../php/formulaire_recherche.php',\n",
       " '../php/page.php?id=66',\n",
       " 'page.php?id=24',\n",
       " 'editions.php?id=catena&numLivre=54',\n",
       " 'editions.php?id=catena&numLivre=55',\n",
       " 'editions.php?id=catena&numLivre=56',\n",
       " 'editions.php?id=catena&numLivre=57',\n",
       " 'editions.php?id=catena&numLivre=58',\n",
       " \"mailto:?to=contact@glossae.net &subject=Signaler un complément d'information pour l'édition de Thomas de Aquino, Expositio continua sive catena aurea super Evangelia : introductio\",\n",
       " '../php/page.php?id=2',\n",
       " '../php/page.php?id=3']"
      ]
     },
     "execution_count": 188,
     "metadata": {},
     "output_type": "execute_result"
    }
   ],
   "source": [
    "query = ['numLivre', 'chapitre']\n",
    "content.find_all('a')\n",
    "urls = [url.get('href') for url in content.find_all('a')]\n",
    "urls\n",
    "# content"
   ]
  }
 ],
 "metadata": {
  "kernelspec": {
   "display_name": ".venv",
   "language": "python",
   "name": "python3"
  },
  "language_info": {
   "codemirror_mode": {
    "name": "ipython",
    "version": 3
   },
   "file_extension": ".py",
   "mimetype": "text/x-python",
   "name": "python",
   "nbconvert_exporter": "python",
   "pygments_lexer": "ipython3",
   "version": "3.11.4"
  },
  "orig_nbformat": 4
 },
 "nbformat": 4,
 "nbformat_minor": 2
}
