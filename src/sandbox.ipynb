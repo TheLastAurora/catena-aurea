{
 "cells": [
  {
   "cell_type": "code",
   "execution_count": 1,
   "metadata": {},
   "outputs": [],
   "source": [
    "from models import extract"
   ]
  },
  {
   "cell_type": "code",
   "execution_count": 2,
   "metadata": {},
   "outputs": [
    {
     "name": "stdout",
     "output_type": "stream",
     "text": [
      "HIERONYMUS\n",
      "HIERONYMUS\n",
      "HIERONYMUS\n",
      "HIERONYMUS\n",
      "HIERONYMUS\n",
      "HIERONYMUS\n",
      "HIERONYMUS\n",
      "HIERONYMUS\n",
      "HIERONYMUS\n",
      "HIERONYMUS\n",
      "HIERONYMUS\n",
      "HIERONYMUS\n",
      "HIERONYMUS\n",
      "HIERONYMUS\n",
      "HIERONYMUS\n",
      "HIERONYMUS\n",
      "HIERONYMUS\n"
     ]
    },
    {
     "ename": "NoReferencesError",
     "evalue": "[URL_REFERENCE] Failed to retrieve any matching references for the given pattern: \"re.compile('HIERONYMUS')\".",
     "output_type": "error",
     "traceback": [
      "\u001b[1;31m---------------------------------------------------------------------------\u001b[0m",
      "\u001b[1;31mNoReferencesError\u001b[0m                         Traceback (most recent call last)",
      "Cell \u001b[1;32mIn[2], line 1\u001b[0m\n\u001b[1;32m----> 1\u001b[0m extract\u001b[39m.\u001b[39;49mextract(\u001b[39m\"\u001b[39;49m\u001b[39mHIERONYMUS\u001b[39;49m\u001b[39m\"\u001b[39;49m)\n",
      "File \u001b[1;32mc:\\Users\\vitor.lribeiro\\Documents\\GitHub\\catena-aurea\\src\\models\\extract.py:110\u001b[0m, in \u001b[0;36mextract\u001b[1;34m(pattern)\u001b[0m\n\u001b[0;32m    109\u001b[0m \u001b[39mdef\u001b[39;00m \u001b[39mextract\u001b[39m(pattern: \u001b[39mstr\u001b[39m) \u001b[39m-\u001b[39m\u001b[39m>\u001b[39m \u001b[39mdict\u001b[39m:\n\u001b[1;32m--> 110\u001b[0m     core \u001b[39m=\u001b[39m extract_raw_content(extract_refs(pattern))\n\u001b[0;32m    111\u001b[0m     \u001b[39mreturn\u001b[39;00m core\n",
      "File \u001b[1;32mc:\\Users\\vitor.lribeiro\\Documents\\GitHub\\catena-aurea\\src\\models\\extract.py:54\u001b[0m, in \u001b[0;36mextract_refs\u001b[1;34m(pattern)\u001b[0m\n\u001b[0;32m     52\u001b[0m     err \u001b[39m=\u001b[39m NoReferencesError(pattern)\n\u001b[0;32m     53\u001b[0m     logging\u001b[39m.\u001b[39merror(err\u001b[39m.\u001b[39mmessage)\n\u001b[1;32m---> 54\u001b[0m     \u001b[39mraise\u001b[39;00m err\n\u001b[0;32m     55\u001b[0m \u001b[39mreturn\u001b[39;00m refs\n",
      "\u001b[1;31mNoReferencesError\u001b[0m: [URL_REFERENCE] Failed to retrieve any matching references for the given pattern: \"re.compile('HIERONYMUS')\"."
     ]
    }
   ],
   "source": [
    "extract.extract(\"HIERONYMUS\")"
   ]
  }
 ],
 "metadata": {
  "kernelspec": {
   "display_name": ".venv",
   "language": "python",
   "name": "python3"
  },
  "language_info": {
   "codemirror_mode": {
    "name": "ipython",
    "version": 3
   },
   "file_extension": ".py",
   "mimetype": "text/x-python",
   "name": "python",
   "nbconvert_exporter": "python",
   "pygments_lexer": "ipython3",
   "version": "3.11.4"
  },
  "orig_nbformat": 4
 },
 "nbformat": 4,
 "nbformat_minor": 2
}
