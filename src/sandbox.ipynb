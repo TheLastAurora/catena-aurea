{
 "cells": [
  {
   "cell_type": "code",
   "execution_count": 1,
   "metadata": {},
   "outputs": [],
   "source": [
    "from models import extract"
   ]
  },
  {
   "cell_type": "code",
   "execution_count": 2,
   "metadata": {},
   "outputs": [
    {
     "name": "stdout",
     "output_type": "stream",
     "text": [
      "{'section': '- Ioannis evangelium', 'subsection': ['<58.624b> Prologus in evangelium Ioannis', '<58.628b> Prologus Anselmi Laodunensis', 'Capitulum 1', 'Capitulum 2', 'Capitulum 3', 'Capitulum 4', 'Capitulum 5', 'Capitulum 6', 'Capitulum 7', 'Capitulum 8', 'Capitulum 9', 'Capitulum 10', 'Capitulum 11', 'Capitulum 12', 'Capitulum 13', 'Capitulum 14', 'Capitulum 15', 'Capitulum 16', 'Capitulum 17', 'Capitulum 18', 'Capitulum 19', 'Capitulum 20', 'Capitulum 21']}\n",
      "{'section': 'Epistola Ioannis prima', 'subsection': ['<79.627b> Ex libro ‘De viris illustribus’, prefatio Hieronymi in epistolas canonicas Ioannis', '<79.2b> Argumentum in prima epistolam canonicam Ioannis', 'Capitulum 1', 'Capitulum 2', 'Capitulum 3', 'Capitulum 4', 'Capitulum 5']}\n",
      "{'section': 'Epistola Ioannis secunda', 'subsection': ['<80.823b> Prologus in secundam Ioannis canonicam', 'Capitulum 1']}\n",
      "{'section': 'Epistola Ioannis tertia', 'subsection': ['<81.824b> Prologus in tertiam Ioannis canonicam', 'Capitulum 1']}\n",
      "{'section': '- Ioannis evangelium', 'subsection': ['<58.624b> Prologus in evangelium Ioannis', '<58.628b> Prologus Anselmi Laodunensis', 'Capitulum 1', 'Capitulum 2', 'Capitulum 3', 'Capitulum 4', 'Capitulum 5', 'Capitulum 6', 'Capitulum 7', 'Capitulum 8', 'Capitulum 9', 'Capitulum 10', 'Capitulum 11', 'Capitulum 12', 'Capitulum 13', 'Capitulum 14', 'Capitulum 15', 'Capitulum 16', 'Capitulum 17', 'Capitulum 18', 'Capitulum 19', 'Capitulum 20', 'Capitulum 21']}\n",
      "{'section': 'Epistola Ioannis prima', 'subsection': ['<79.627b> Ex libro ‘De viris illustribus’, prefatio Hieronymi in epistolas canonicas Ioannis', '<79.2b> Argumentum in prima epistolam canonicam Ioannis', 'Capitulum 1', 'Capitulum 2', 'Capitulum 3', 'Capitulum 4', 'Capitulum 5']}\n",
      "{'section': 'Epistola Ioannis secunda', 'subsection': ['<80.823b> Prologus in secundam Ioannis canonicam', 'Capitulum 1']}\n",
      "{'section': 'Epistola Ioannis tertia', 'subsection': ['<81.824b> Prologus in tertiam Ioannis canonicam', 'Capitulum 1']}\n",
      "{'section': 'Ioannis evangelium', 'subsection': ['<58.3723 Hugonis prologus in Ioannem>', '<58.624b Hugonis expositio prologi Hieronymi in Ioannem>', '<58.628b> Hugonis expositio prologi Augustini in Ioannem', 'Capitulum 1', 'Capitulum 2', 'Capitulum 3', 'Capitulum 4', 'Capitulum 5', 'Capitulum 6', 'Capitulum 7', 'Capitulum 8', 'Capitulum 9', 'Capitulum 10', 'Capitulum 11', 'Capitulum 12', 'Capitulum 13', 'Capitulum 14', 'Capitulum 15', 'Capitulum 16', 'Capitulum 17', 'Capitulum 18', 'Capitulum 19', 'Capitulum 20', 'Capitulum 21']}\n",
      "{'section': 'Postilla in epistola Ioannis prima', 'subsection': ['Capitulum 1', 'Capitulum 2', 'Capitulum 3', 'Capitulum 4', 'Capitulum 5']}\n",
      "{'section': 'Postilla in epistola Ioannis secunda', 'subsection': ['Capitulum 1']}\n",
      "{'section': 'Postilla in epistola Ioannis tertia', 'subsection': ['Capitulum 1']}\n",
      "{'section': 'Ioannis evangelium', 'subsection': ['Capitulum 13']}\n",
      "{'section': '- Ioannis evangelium', 'subsection': ['<58.624b> Prologus in evangelium Ioannis', '<58.628b> Prologus Anselmi Laodunensis', 'Capitulum 1', 'Capitulum 2', 'Capitulum 3', 'Capitulum 4', 'Capitulum 5', 'Capitulum 6', 'Capitulum 7', 'Capitulum 8', 'Capitulum 9', 'Capitulum 10', 'Capitulum 11', 'Capitulum 12', 'Capitulum 13', 'Capitulum 14', 'Capitulum 15', 'Capitulum 16', 'Capitulum 17', 'Capitulum 18', 'Capitulum 19', 'Capitulum 20', 'Capitulum 21']}\n",
      "{'section': 'Epistola Ioannis prima', 'subsection': ['<79.627b> Ex libro ‘De viris illustribus’, prefatio Hieronymi in epistolas canonicas Ioannis', '<79.2b> Argumentum in prima epistolam canonicam Ioannis', 'Capitulum 1', 'Capitulum 2', 'Capitulum 3', 'Capitulum 4', 'Capitulum 5']}\n",
      "{'section': 'Epistola Ioannis secunda', 'subsection': ['<80.823b> Prologus in secundam Ioannis canonicam', 'Capitulum 1']}\n",
      "{'section': 'Epistola Ioannis tertia', 'subsection': ['<81.824b> Prologus in tertiam Ioannis canonicam', 'Capitulum 1']}\n",
      "{'verset': '1Io. Prol.627b,1', 'unite_textuelle': ['\\nprol.|\\n                        Ioannes apostolus quem Iesus dilexit1 plurimum, filius ZebedeiA\\n2, frater Iacobi apostoli, quem Herodes post passionem Domini decollaverat3, novissimus omnium scripsit evangelium. Rogatus ab Asie episcopis adversus Cherinthum aliosque hereticos et maxime tunc Ebionitarum dogma consurgens, qui asserunt Christum ante Mariam nonfuisse. Unde etiam compulsus est divinam eius nativitatem edicere. Sed et aliam causam huius Scripture ferunt quod, cum legisset Matthei, Marci et Luce volumina, probaverit quidem textum historie et vera eos dixisse firmaverit, sed unius tantum anni in quo4 passus est post carcerem Ioannis, historiam texuisse. Pretermisso itaque anno cuius acta a tribus exposita fuerant, superioris temporis, antequam Ioannes clauderetur in carcerem, gesta narravit, sicut manifestum esse potest5 his qui6 quatuor evangeliorum volumina legerint. Que res diaphoniam7 que videbatur Ioannis esse, cum ceteris tulit8. Scripsit autem9 unam epistolam cuius exordium hoc10 esta : «Quod fuit ab initio, quod audivimus et vidimus oculis nostris, quod perspeximus et manus nostre tractaverunt de Verbo vite», que ab universis ecclesiasticis et eruditissimus viris comprobatur11. Relique autem due, quarum principium estb : «Senior electe Domine et natis eius», et sequensc : «Senior Caio carissimo, quem ego in veritate diligo» etc. Ioannis presbyteri asseruntur, cuius et hodie alterum sepulcrum apud Ephesum ostenditur ; et nonnulli putant duas memorias eiusdem Ioannis evangeliste esse.\\n                     \\na 1Io.b 2Io.c 3Io.A\\n¶Codd. : Rusch Ed18961 dilexit] amavit \\nRB-627\\n\\n2 Zebedei] et \\npraem. Ed1896\\n\\n3 decollaverat] decollavit \\nEd1896\\n\\n4 quo] + et \\nEd1896\\n\\n5 potest] poterit \\nEd1896\\n\\n6 qui] + diligenter \\nEd1896\\n\\n7 diaphoniam] et διαφωνίαν \\nEd1896\\n\\n8 tulit] tolit \\nEd1896\\n\\n9 autem] + et \\nEd1896\\n\\n10 hoc] om. Ed189611 comprobatur] probatur \\nEd1896\\n\\n']}\n"
     ]
    },
    {
     "ename": "TypeError",
     "evalue": "unhashable type: 'list'",
     "output_type": "error",
     "traceback": [
      "\u001b[0;31m---------------------------------------------------------------------------\u001b[0m",
      "\u001b[0;31mTypeError\u001b[0m                                 Traceback (most recent call last)",
      "\u001b[1;32m/home/vitor/Programming/catena-aurea/src/sandbox.ipynb Cell 2\u001b[0m line \u001b[0;36m2\n\u001b[1;32m      <a href='vscode-notebook-cell://wsl%2Barch/home/vitor/Programming/catena-aurea/src/sandbox.ipynb#W1sdnNjb2RlLXJlbW90ZQ%3D%3D?line=0'>1</a>\u001b[0m test \u001b[39m=\u001b[39m extract\u001b[39m.\u001b[39mextract(\u001b[39m'\u001b[39m\u001b[39mIoannis\u001b[39m\u001b[39m'\u001b[39m)\n\u001b[0;32m----> <a href='vscode-notebook-cell://wsl%2Barch/home/vitor/Programming/catena-aurea/src/sandbox.ipynb#W1sdnNjb2RlLXJlbW90ZQ%3D%3D?line=1'>2</a>\u001b[0m \u001b[39mfor\u001b[39;49;00m i, t \u001b[39min\u001b[39;49;00m \u001b[39menumerate\u001b[39;49m(test):\n\u001b[1;32m      <a href='vscode-notebook-cell://wsl%2Barch/home/vitor/Programming/catena-aurea/src/sandbox.ipynb#W1sdnNjb2RlLXJlbW90ZQ%3D%3D?line=2'>3</a>\u001b[0m     \u001b[39mif\u001b[39;49;00m i \u001b[39m>\u001b[39;49m \u001b[39m20\u001b[39;49m:\n\u001b[1;32m      <a href='vscode-notebook-cell://wsl%2Barch/home/vitor/Programming/catena-aurea/src/sandbox.ipynb#W1sdnNjb2RlLXJlbW90ZQ%3D%3D?line=3'>4</a>\u001b[0m         \u001b[39mbreak\u001b[39;49;00m\n",
      "File \u001b[0;32m~/Programming/catena-aurea/src/models/extract.py:105\u001b[0m, in \u001b[0;36mextract_raw_content\u001b[0;34m(refs)\u001b[0m\n\u001b[1;32m    100\u001b[0m \u001b[39mif\u001b[39;00m content:\n\u001b[1;32m    101\u001b[0m     \u001b[39mprint\u001b[39m(content[\u001b[39m0\u001b[39m])\n\u001b[1;32m    102\u001b[0m     \u001b[39myield\u001b[39;00m {\n\u001b[1;32m    103\u001b[0m         \u001b[39m\"\u001b[39m\u001b[39msection\u001b[39m\u001b[39m\"\u001b[39m: \u001b[39mformat\u001b[39m(core\u001b[39m.\u001b[39mselect_one(\u001b[39m\"\u001b[39m\u001b[39m#textContainer .titre_edition\u001b[39m\u001b[39m\"\u001b[39m)),\n\u001b[1;32m    104\u001b[0m         \u001b[39m\"\u001b[39m\u001b[39msubsection\u001b[39m\u001b[39m\"\u001b[39m: core\u001b[39m.\u001b[39mselect_one(\u001b[39m\"\u001b[39m\u001b[39m#textContainer h2\u001b[39m\u001b[39m\"\u001b[39m)\u001b[39m.\u001b[39mtext,\n\u001b[0;32m--> 105\u001b[0m         \u001b[39m\"\u001b[39m\u001b[39mcontent\u001b[39m\u001b[39m\"\u001b[39m: {[\u001b[39m*\u001b[39mcontent]},\n\u001b[1;32m    106\u001b[0m     }\n",
      "\u001b[0;31mTypeError\u001b[0m: unhashable type: 'list'"
     ]
    }
   ],
   "source": [
    "test = extract.extract('Ioannis')\n",
    "for i, t in enumerate(test):\n",
    "    if i > 20:\n",
    "        break\n",
    "    print(t)"
   ]
  }
 ],
 "metadata": {
  "kernelspec": {
   "display_name": ".venv",
   "language": "python",
   "name": "python3"
  },
  "language_info": {
   "codemirror_mode": {
    "name": "ipython",
    "version": 3
   },
   "file_extension": ".py",
   "mimetype": "text/x-python",
   "name": "python",
   "nbconvert_exporter": "python",
   "pygments_lexer": "ipython3",
   "version": "3.11.5"
  },
  "orig_nbformat": 4
 },
 "nbformat": 4,
 "nbformat_minor": 2
}
