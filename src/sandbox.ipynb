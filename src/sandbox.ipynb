{
 "cells": [
  {
   "cell_type": "code",
   "execution_count": 2,
   "metadata": {},
   "outputs": [],
   "source": [
    "from bardapi import Bard\n",
    "from bs4 import BeautifulSoup\n",
    "import os\n",
    "import jsonschema\n",
    "import json\n",
    "from requests_html import HTMLSession\n",
    "from urllib.parse import urljoin, urlparse\n",
    "import nest_asyncio\n",
    "import re"
   ]
  },
  {
   "cell_type": "code",
   "execution_count": 3,
   "metadata": {},
   "outputs": [],
   "source": [
    "# nest_asyncio.apply()\n",
    "# url = \"https://gloss-e.irht.cnrs.fr/php/livres-liste.php?id=catena\"\n",
    "# session = HTMLSession()\n",
    "# res = session.get(url)"
   ]
  },
  {
   "cell_type": "code",
   "execution_count": 4,
   "metadata": {},
   "outputs": [],
   "source": [
    "# content = BeautifulSoup(res.text, 'html.parser')\n",
    "# refs = content.find_all('a')\n",
    "# pattern = r'Capitulum'\n",
    "# mapping = {r.get('href'): r.get_text() for r in refs}\n",
    "# mapping\n"
   ]
  }
 ],
 "metadata": {
  "kernelspec": {
   "display_name": ".venv",
   "language": "python",
   "name": "python3"
  },
  "language_info": {
   "codemirror_mode": {
    "name": "ipython",
    "version": 3
   },
   "file_extension": ".py",
   "mimetype": "text/x-python",
   "name": "python",
   "nbconvert_exporter": "python",
   "pygments_lexer": "ipython3",
   "version": "3.11.4"
  },
  "orig_nbformat": 4
 },
 "nbformat": 4,
 "nbformat_minor": 2
}
