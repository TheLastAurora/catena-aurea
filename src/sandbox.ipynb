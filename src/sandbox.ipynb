{
 "cells": [
  {
   "cell_type": "code",
   "execution_count": 1,
   "metadata": {},
   "outputs": [],
   "source": [
    "from models import extract\n",
    "from pprint import pprint"
   ]
  },
  {
   "cell_type": "code",
   "execution_count": 2,
   "metadata": {},
   "outputs": [],
   "source": [
    "test = extract.extract('Ioannis')\n",
    "l = {}\n",
    "for i, t in enumerate(test):\n",
    "    if i > 20:\n",
    "        break\n",
    "    l = t"
   ]
  },
  {
   "cell_type": "code",
   "execution_count": 9,
   "metadata": {},
   "outputs": [
    {
     "name": "stdout",
     "output_type": "stream",
     "text": [
      "{'unite_textuelle': ['\\n'\n",
      "                     'prol.|\\n'\n",
      "                     '                        Super qua re, cum per ordinem ad '\n",
      "                     'Papiam auditorem eius ventum fuerit, disseremus. Quarto '\n",
      "                     'decimo igitur anno, secundam post Neronem persecutionem '\n",
      "                     'movente Domitiano, in Pathmos insulam relegatus, '\n",
      "                     'scripsis Apocalypsim, quam interpretantur Iustinus '\n",
      "                     'martyr et Ireneus. Interfacto autem Domitiano, et actis '\n",
      "                     'eius ob nimiam crudelitatem a senatu rescissis, sub '\n",
      "                     'Nerva principe rediit12 Ephesum, ibique usque ad '\n",
      "                     'Traianum principem perseverans, totas Asie fundavit et '\n",
      "                     'rexit Ecclesias. Confectusque {t. 4 : Erfurt, f. 1187vb '\n",
      "                     '; facsim., p. 534b} senio13, sexagesimo octavo anno14, '\n",
      "                     'post passionem Domini mortuus, et15 iuxta eandem urbem '\n",
      "                     'sepultus est.d\\n'\n",
      "                     '\\n'\n",
      "                     'd\\n'\n",
      "                     '¶Fons :\\n'\n",
      "                     '\\n'\n",
      "                     'Hieronymus\\n'\n",
      "                     ', De viris illustribus, c. 9, ed. E. Richardson, 1896, '\n",
      "                     'p. 12.29-13.28.  – Cf.  \\n'\n",
      "                     '                                 De Bruyne, \\n'\n",
      "                     '\\n'\n",
      "                     'Préfaces XIII (Evang.), n°8.2, p. 175-176. Repertorium '\n",
      "                     'biblicum n° 627.12 principe rediit] redit \\n'\n",
      "                     'Ed1896\\n'\n",
      "                     '\\n'\n",
      "                     '13 Confectusque senio] et confectus senio et \\n'\n",
      "                     'Ed1896\\n'\n",
      "                     '\\n'\n",
      "                     '14 anno] \\n'\n",
      "                     'om. Ed1896\\n'\n",
      "                     '\\n'\n",
      "                     '15 et] om. Ed1896'],\n",
      " 'verset': '1Io. Prol.627b,2'}\n"
     ]
    }
   ],
   "source": [
    "pprint(l['content'][1])"
   ]
  }
 ],
 "metadata": {
  "kernelspec": {
   "display_name": ".venv",
   "language": "python",
   "name": "python3"
  },
  "language_info": {
   "codemirror_mode": {
    "name": "ipython",
    "version": 3
   },
   "file_extension": ".py",
   "mimetype": "text/x-python",
   "name": "python",
   "nbconvert_exporter": "python",
   "pygments_lexer": "ipython3",
   "version": "3.11.5"
  },
  "orig_nbformat": 4
 },
 "nbformat": 4,
 "nbformat_minor": 2
}
