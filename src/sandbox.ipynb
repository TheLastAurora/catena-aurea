{
 "cells": [
  {
   "cell_type": "code",
   "execution_count": 1,
   "metadata": {},
   "outputs": [],
   "source": [
    "from bardapi import Bard\n",
    "from bs4 import BeautifulSoup\n",
    "import os\n",
    "import jsonschema\n",
    "import json\n",
    "from requests_html import HTMLSession\n",
    "from urllib.parse import urljoin, urlparse\n",
    "import nest_asyncio\n",
    "import re"
   ]
  },
  {
   "cell_type": "code",
   "execution_count": 2,
   "metadata": {},
   "outputs": [],
   "source": [
    "nest_asyncio.apply()\n",
    "url = \"https://gloss-e.irht.cnrs.fr/php/livres-liste.php?id=catena\"\n",
    "session = HTMLSession()\n",
    "res = session.get(url)"
   ]
  },
  {
   "cell_type": "code",
   "execution_count": 3,
   "metadata": {},
   "outputs": [
    {
     "data": {
      "text/plain": [
       "{'../': 'Glossae Scripturae Sacrae-electronicae (Gloss-e)',\n",
       " '../index.php': 'Accueil',\n",
       " '../php/introduction.php': 'Sommaire',\n",
       " '#': '\\n\\t\\t\\t\\t\\t\\t\\t\\tCorpus\\n\\t\\t\\t\\t\\t\\t\\t',\n",
       " '../php/livres-liste.php?id=biblia': 'Biblia Communis',\n",
       " '../php/livres-liste.php?id=glo': 'Glossa ordinaria',\n",
       " '../php/livres-liste.php?id=media': 'Glossa media',\n",
       " '../php/livres-liste.php?id=magna': 'Glossa magna',\n",
       " '../php/livres-liste.php?id=hug': 'Hugo de Sancto Charo',\n",
       " '../php/livres-liste.php?id=phi': 'Distinctiones in Psalmos Philippi Cancellarii',\n",
       " '../php/livres-liste.php?id=catena': 'Catena aurea Thomae de Aquino',\n",
       " '../php/livres-liste.php?id=lyr': 'Nicolaus de Lyra',\n",
       " '../php/glossem_formulaire.php': 'Manuscrits',\n",
       " '../php/index-liste.php': 'Instrumenta',\n",
       " '../php/formulaire_recherche.php': 'Recherche avancée',\n",
       " '../php/page.php?id=66': 'Aide à la recherche',\n",
       " 'page.php?id=24': 'Thomas de Aquino, Expositio continua sive catena aurea super Evangelia : introductio',\n",
       " 'editions.php?id=catena&numLivre=54': '<54.\\xa0Tabula ‘Fons ascendens’>',\n",
       " 'editions.php?id=catena&numLivre=55': '<55. Catena aurea in Matthaeum>',\n",
       " 'editions.php?id=catena&numLivre=56': '<56. Catena aurea in Marcum>',\n",
       " 'editions.php?id=catena&numLivre=57': '<57. Catena aurea in Lucam>',\n",
       " 'editions.php?id=catena&numLivre=58': '<58. Catena aurea in Ioannem>',\n",
       " \"mailto:?to=contact@glossae.net &subject=Signaler un complément d'information pour l'édition de Thomas de Aquino, Expositio continua sive catena aurea super Evangelia : introductio\": \"Signaler\\n                                un complément d'information\",\n",
       " '../php/page.php?id=2': 'Colophon',\n",
       " '../php/page.php?id=3': 'Mentions légales'}"
      ]
     },
     "execution_count": 3,
     "metadata": {},
     "output_type": "execute_result"
    }
   ],
   "source": [
    "content = BeautifulSoup(res.text, 'html.parser')\n",
    "refs = content.find_all('a')\n",
    "pattern = r'Capitulum'\n",
    "mapping = {r.get('href'): r.get_text() for r in refs}\n",
    "mapping\n"
   ]
  }
 ],
 "metadata": {
  "kernelspec": {
   "display_name": ".venv",
   "language": "python",
   "name": "python3"
  },
  "language_info": {
   "codemirror_mode": {
    "name": "ipython",
    "version": 3
   },
   "file_extension": ".py",
   "mimetype": "text/x-python",
   "name": "python",
   "nbconvert_exporter": "python",
   "pygments_lexer": "ipython3",
   "version": "3.11.5"
  },
  "orig_nbformat": 4
 },
 "nbformat": 4,
 "nbformat_minor": 2
}
