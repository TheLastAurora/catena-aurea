{
 "cells": [
  {
   "cell_type": "code",
   "execution_count": 156,
   "metadata": {},
   "outputs": [],
   "source": [
    "from models import extract\n",
    "from pprint import pprint"
   ]
  },
  {
   "cell_type": "code",
   "execution_count": 157,
   "metadata": {},
   "outputs": [],
   "source": [
    "# test = extract.extract('Ioannis')\n",
    "# l = {}\n",
    "# for i, t in enumerate(test):\n",
    "#     if i > 20:\n",
    "#         break\n",
    "#     l = t"
   ]
  },
  {
   "cell_type": "code",
   "execution_count": 158,
   "metadata": {},
   "outputs": [],
   "source": [
    "# pprint(l['content'][1])"
   ]
  },
  {
   "cell_type": "code",
   "execution_count": 159,
   "metadata": {},
   "outputs": [
    {
     "data": {
      "text/plain": [
       "'world'"
      ]
     },
     "execution_count": 159,
     "metadata": {},
     "output_type": "execute_result"
    }
   ],
   "source": [
    "def test(*args, **kwargs):\n",
    "    return [kwarg for kwarg in kwargs.keys() if kwarg]\n",
    "\n",
    "\n",
    "t = test(quasi='', pat='')\n",
    "\n",
    "dm = {\n",
    "    frozenset(['pat']): 'hello',\n",
    "    frozenset(['pat', 'quasi']): 'world',\n",
    "    frozenset(['quasi', 'pet']): 'hello',\n",
    "}\n",
    "\n",
    "dm[frozenset([*t])]"
   ]
  }
 ],
 "metadata": {
  "kernelspec": {
   "display_name": ".venv",
   "language": "python",
   "name": "python3"
  },
  "language_info": {
   "codemirror_mode": {
    "name": "ipython",
    "version": 3
   },
   "file_extension": ".py",
   "mimetype": "text/x-python",
   "name": "python",
   "nbconvert_exporter": "python",
   "pygments_lexer": "ipython3",
   "version": "3.11.4"
  },
  "orig_nbformat": 4
 },
 "nbformat": 4,
 "nbformat_minor": 2
}
