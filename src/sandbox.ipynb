{
 "cells": [
  {
   "cell_type": "code",
   "execution_count": 1,
   "metadata": {},
   "outputs": [],
   "source": [
    "from models import extract"
   ]
  },
  {
   "cell_type": "code",
   "execution_count": 2,
   "metadata": {},
   "outputs": [
    {
     "name": "stdout",
     "output_type": "stream",
     "text": [
      "{'section': '- Ioannis evangelium', 'subsection': ['<58.624b> Prologus in evangelium Ioannis', '<58.628b> Prologus Anselmi Laodunensis', 'Capitulum 1', 'Capitulum 2', 'Capitulum 3', 'Capitulum 4', 'Capitulum 5', 'Capitulum 6', 'Capitulum 7', 'Capitulum 8', 'Capitulum 9', 'Capitulum 10', 'Capitulum 11', 'Capitulum 12', 'Capitulum 13', 'Capitulum 14', 'Capitulum 15', 'Capitulum 16', 'Capitulum 17', 'Capitulum 18', 'Capitulum 19', 'Capitulum 20', 'Capitulum 21']}\n",
      "{'section': 'Epistola Ioannis prima', 'subsection': ['<79.627b> Ex libro ‘De viris illustribus’, prefatio Hieronymi in epistolas canonicas Ioannis', '<79.2b> Argumentum in prima epistolam canonicam Ioannis', 'Capitulum 1', 'Capitulum 2', 'Capitulum 3', 'Capitulum 4', 'Capitulum 5']}\n",
      "{'section': 'Epistola Ioannis secunda', 'subsection': ['<80.823b> Prologus in secundam Ioannis canonicam', 'Capitulum 1']}\n",
      "{'section': 'Epistola Ioannis tertia', 'subsection': ['<81.824b> Prologus in tertiam Ioannis canonicam', 'Capitulum 1']}\n",
      "{'section': '- Ioannis evangelium', 'subsection': ['<58.624b> Prologus in evangelium Ioannis', '<58.628b> Prologus Anselmi Laodunensis', 'Capitulum 1', 'Capitulum 2', 'Capitulum 3', 'Capitulum 4', 'Capitulum 5', 'Capitulum 6', 'Capitulum 7', 'Capitulum 8', 'Capitulum 9', 'Capitulum 10', 'Capitulum 11', 'Capitulum 12', 'Capitulum 13', 'Capitulum 14', 'Capitulum 15', 'Capitulum 16', 'Capitulum 17', 'Capitulum 18', 'Capitulum 19', 'Capitulum 20', 'Capitulum 21']}\n",
      "{'section': 'Epistola Ioannis prima', 'subsection': ['<79.627b> Ex libro ‘De viris illustribus’, prefatio Hieronymi in epistolas canonicas Ioannis', '<79.2b> Argumentum in prima epistolam canonicam Ioannis', 'Capitulum 1', 'Capitulum 2', 'Capitulum 3', 'Capitulum 4', 'Capitulum 5']}\n",
      "{'section': 'Epistola Ioannis secunda', 'subsection': ['<80.823b> Prologus in secundam Ioannis canonicam', 'Capitulum 1']}\n",
      "{'section': 'Epistola Ioannis tertia', 'subsection': ['<81.824b> Prologus in tertiam Ioannis canonicam', 'Capitulum 1']}\n",
      "{'section': 'Ioannis evangelium', 'subsection': ['<58.3723 Hugonis prologus in Ioannem>', '<58.624b Hugonis expositio prologi Hieronymi in Ioannem>', '<58.628b> Hugonis expositio prologi Augustini in Ioannem', 'Capitulum 1', 'Capitulum 2', 'Capitulum 3', 'Capitulum 4', 'Capitulum 5', 'Capitulum 6', 'Capitulum 7', 'Capitulum 8', 'Capitulum 9', 'Capitulum 10', 'Capitulum 11', 'Capitulum 12', 'Capitulum 13', 'Capitulum 14', 'Capitulum 15', 'Capitulum 16', 'Capitulum 17', 'Capitulum 18', 'Capitulum 19', 'Capitulum 20', 'Capitulum 21']}\n",
      "{'section': 'Postilla in epistola Ioannis prima', 'subsection': ['Capitulum 1', 'Capitulum 2', 'Capitulum 3', 'Capitulum 4', 'Capitulum 5']}\n",
      "{'section': 'Postilla in epistola Ioannis secunda', 'subsection': ['Capitulum 1']}\n"
     ]
    }
   ],
   "source": [
    "test = extract.extract('Ioannis')\n",
    "for i, t in enumerate(test):\n",
    "    if i > 10:\n",
    "        break\n",
    "    print(t)\n"
   ]
  }
 ],
 "metadata": {
  "kernelspec": {
   "display_name": ".venv",
   "language": "python",
   "name": "python3"
  },
  "language_info": {
   "codemirror_mode": {
    "name": "ipython",
    "version": 3
   },
   "file_extension": ".py",
   "mimetype": "text/x-python",
   "name": "python",
   "nbconvert_exporter": "python",
   "pygments_lexer": "ipython3",
   "version": "3.11.5"
  },
  "orig_nbformat": 4
 },
 "nbformat": 4,
 "nbformat_minor": 2
}
