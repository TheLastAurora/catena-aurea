{
 "cells": [
  {
   "cell_type": "code",
   "execution_count": 105,
   "metadata": {},
   "outputs": [],
   "source": [
    "from bardapi import Bard\n",
    "from bs4 import BeautifulSoup\n",
    "from models.catena import Catena\n",
    "import os\n",
    "import jsonschema\n",
    "import json\n",
    "from requests_html import HTMLSession\n",
    "import nest_asyncio"
   ]
  },
  {
   "cell_type": "code",
   "execution_count": 106,
   "metadata": {},
   "outputs": [],
   "source": [
    "nest_asyncio.apply()\n",
    "url = \"https://gloss-e.irht.cnrs.fr/php/editions_chapitre.php?id=catena&numLivre=55&chapitre=55_5\"\n",
    "session = HTMLSession()\n",
    "res = session.get(url)"
   ]
  }
 ],
 "metadata": {
  "kernelspec": {
   "display_name": ".venv",
   "language": "python",
   "name": "python3"
  },
  "language_info": {
   "codemirror_mode": {
    "name": "ipython",
    "version": 3
   },
   "file_extension": ".py",
   "mimetype": "text/x-python",
   "name": "python",
   "nbconvert_exporter": "python",
   "pygments_lexer": "ipython3",
   "version": "3.11.4"
  },
  "orig_nbformat": 4
 },
 "nbformat": 4,
 "nbformat_minor": 2
}
